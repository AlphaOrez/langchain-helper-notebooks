{
 "cells": [
  {
   "cell_type": "markdown",
   "id": "0d647f70",
   "metadata": {},
   "source": [
    "# **LangChain:** Embeddings and Vectorstores\n",
    "\n",
    "Recall the overall workflow for retrieval augmented generation (RAG):"
   ]
  },
  {
   "cell_type": "markdown",
   "id": "125247c2",
   "metadata": {},
   "source": [
    "![overview.jpeg](Images/Document_Loading.jpg)"
   ]
  },
  {
   "cell_type": "code",
   "execution_count": 1,
   "id": "7f8d2266-4a35-4904-ae9d-c89790c5ae61",
   "metadata": {
    "tags": []
   },
   "outputs": [],
   "source": [
    "import os\n",
    "import openai\n",
    "import sys\n",
    "sys.path.append('../..')\n",
    "\n",
    "from dotenv import load_dotenv, find_dotenv\n",
    "_ = load_dotenv(find_dotenv()) # read local .env file\n",
    "\n",
    "openai.api_key  = os.environ['OPENAI_API_KEY']"
   ]
  },
  {
   "cell_type": "markdown",
   "id": "460a54b0",
   "metadata": {},
   "source": [
    "We just discussed `Document Loading` and `Splitting`."
   ]
  },
  {
   "cell_type": "code",
   "execution_count": 2,
   "id": "2437469e",
   "metadata": {
    "tags": []
   },
   "outputs": [],
   "source": [
    "from langchain.document_loaders import PyPDFLoader\n",
    "\n",
    "# Load PDF\n",
    "loaders = [\n",
    "    # Duplicate documents on purpose - messy data\n",
    "    PyPDFLoader(\"/home/centrox_ai/Desktop/ABDULLAH/llama2/rag/1.pdf\"),\n",
    "    PyPDFLoader(\"/home/centrox_ai/Desktop/ABDULLAH/llama2/rag/1.pdf\"),\n",
    "    PyPDFLoader(\"/home/centrox_ai/Desktop/ABDULLAH/llama2/rag/MachineLearning-Lecture02.pdf\"),\n",
    "    PyPDFLoader(\"/home/centrox_ai/Desktop/ABDULLAH/llama2/rag/a.pdf\")\n",
    "]\n",
    "docs = []\n",
    "for loader in loaders:\n",
    "    docs.extend(loader.load())"
   ]
  },
  {
   "cell_type": "code",
   "execution_count": 3,
   "id": "eb44bf0d",
   "metadata": {
    "tags": []
   },
   "outputs": [],
   "source": [
    "# Split\n",
    "from langchain.text_splitter import RecursiveCharacterTextSplitter\n",
    "text_splitter = RecursiveCharacterTextSplitter(\n",
    "    chunk_size = 1500,\n",
    "    chunk_overlap = 150\n",
    ")"
   ]
  },
  {
   "cell_type": "code",
   "execution_count": 4,
   "id": "b71e46cc",
   "metadata": {
    "tags": []
   },
   "outputs": [],
   "source": [
    "splits = text_splitter.split_documents(docs)"
   ]
  },
  {
   "cell_type": "code",
   "execution_count": 5,
   "id": "e061f22d",
   "metadata": {
    "tags": []
   },
   "outputs": [
    {
     "data": {
      "text/plain": [
       "2225"
      ]
     },
     "execution_count": 5,
     "metadata": {},
     "output_type": "execute_result"
    }
   ],
   "source": [
    "len(splits)"
   ]
  },
  {
   "cell_type": "markdown",
   "id": "848e26fd",
   "metadata": {},
   "source": [
    "## Embeddings\n",
    "\n",
    "Let's take our splits and embed them."
   ]
  },
  {
   "cell_type": "code",
   "execution_count": 6,
   "id": "d9dca7a8",
   "metadata": {
    "tags": []
   },
   "outputs": [
    {
     "name": "stderr",
     "output_type": "stream",
     "text": [
      "/home/centrox_ai/anaconda3/envs/llava/lib/python3.11/site-packages/langchain_core/_api/deprecation.py:119: LangChainDeprecationWarning: The class `OpenAIEmbeddings` was deprecated in LangChain 0.0.9 and will be removed in 0.2.0. An updated version of the class exists in the langchain-openai package and should be used instead. To use it run `pip install -U langchain-openai` and import as `from langchain_openai import OpenAIEmbeddings`.\n",
      "  warn_deprecated(\n"
     ]
    }
   ],
   "source": [
    "from langchain.embeddings.openai import OpenAIEmbeddings\n",
    "embedding = OpenAIEmbeddings()"
   ]
  },
  {
   "cell_type": "code",
   "execution_count": 7,
   "id": "c4099521",
   "metadata": {
    "tags": []
   },
   "outputs": [],
   "source": [
    "sentence1 = \"i like dogs\"\n",
    "sentence2 = \"i like canines\"\n",
    "sentence3 = \"the weather is ugly outside\""
   ]
  },
  {
   "cell_type": "code",
   "execution_count": 9,
   "id": "d553549a",
   "metadata": {
    "tags": []
   },
   "outputs": [],
   "source": [
    "embedding1 = embedding.embed_query(sentence1)\n",
    "embedding2 = embedding.embed_query(sentence2)\n",
    "embedding3 = embedding.embed_query(sentence3)"
   ]
  },
  {
   "cell_type": "code",
   "execution_count": 10,
   "id": "0cbe9a9e",
   "metadata": {
    "tags": []
   },
   "outputs": [],
   "source": [
    "import numpy as np"
   ]
  },
  {
   "cell_type": "code",
   "execution_count": 11,
   "id": "49fc0f8f",
   "metadata": {
    "tags": []
   },
   "outputs": [
    {
     "data": {
      "text/plain": [
       "0.9631227500523626"
      ]
     },
     "execution_count": 11,
     "metadata": {},
     "output_type": "execute_result"
    }
   ],
   "source": [
    "np.dot(embedding1, embedding2)"
   ]
  },
  {
   "cell_type": "code",
   "execution_count": 12,
   "id": "32a1fac7",
   "metadata": {
    "tags": []
   },
   "outputs": [
    {
     "data": {
      "text/plain": [
       "0.7703257495981698"
      ]
     },
     "execution_count": 12,
     "metadata": {},
     "output_type": "execute_result"
    }
   ],
   "source": [
    "np.dot(embedding1, embedding3)"
   ]
  },
  {
   "cell_type": "code",
   "execution_count": 13,
   "id": "9dd18328",
   "metadata": {
    "tags": []
   },
   "outputs": [
    {
     "data": {
      "text/plain": [
       "0.759162740110803"
      ]
     },
     "execution_count": 13,
     "metadata": {},
     "output_type": "execute_result"
    }
   ],
   "source": [
    "np.dot(embedding2, embedding3)"
   ]
  },
  {
   "cell_type": "markdown",
   "id": "4fc7b24f",
   "metadata": {},
   "source": [
    "## Vectorstores"
   ]
  },
  {
   "cell_type": "code",
   "execution_count": 14,
   "id": "da2213e6",
   "metadata": {
    "tags": []
   },
   "outputs": [],
   "source": [
    "# ! pip install chromadb==0.4.3"
   ]
  },
  {
   "cell_type": "code",
   "execution_count": 8,
   "id": "201e6afa",
   "metadata": {
    "tags": []
   },
   "outputs": [],
   "source": [
    "from langchain.vectorstores import Chroma"
   ]
  },
  {
   "cell_type": "code",
   "execution_count": 9,
   "id": "93960ac5",
   "metadata": {
    "tags": []
   },
   "outputs": [],
   "source": [
    "persist_directory = '/home/centrox_ai/Desktop/ABDULLAH/langchain/LangChain-Chat-with-your-Data/chroma/'"
   ]
  },
  {
   "cell_type": "code",
   "execution_count": 11,
   "id": "a195e72a",
   "metadata": {
    "tags": []
   },
   "outputs": [],
   "source": [
    "!rm -rf ./home/centrox_ai/Desktop/ABDULLAH/langchain/LangChain-Chat-with-your-Data/chroma  # remove old database files if any"
   ]
  },
  {
   "cell_type": "code",
   "execution_count": 12,
   "id": "690efd0a",
   "metadata": {
    "tags": []
   },
   "outputs": [],
   "source": [
    "vectordb = Chroma.from_documents(\n",
    "    documents=splits,\n",
    "    embedding=embedding,\n",
    "    persist_directory=persist_directory\n",
    ")"
   ]
  },
  {
   "cell_type": "code",
   "execution_count": 13,
   "id": "f777480c",
   "metadata": {
    "tags": []
   },
   "outputs": [
    {
     "name": "stdout",
     "output_type": "stream",
     "text": [
      "2225\n"
     ]
    }
   ],
   "source": [
    "print(vectordb._collection.count())"
   ]
  },
  {
   "cell_type": "markdown",
   "id": "efca7589",
   "metadata": {},
   "source": [
    "### Similarity Search"
   ]
  },
  {
   "cell_type": "code",
   "execution_count": 28,
   "id": "3e20837d",
   "metadata": {
    "tags": []
   },
   "outputs": [],
   "source": [
    "question = \"who was the successor of Aurelian after he was murdered?\""
   ]
  },
  {
   "cell_type": "code",
   "execution_count": 29,
   "id": "f9bde572",
   "metadata": {
    "tags": []
   },
   "outputs": [],
   "source": [
    "docs = vectordb.similarity_search(question,k=3)"
   ]
  },
  {
   "cell_type": "code",
   "execution_count": 30,
   "id": "41388af1",
   "metadata": {
    "tags": []
   },
   "outputs": [
    {
     "data": {
      "text/plain": [
       "3"
      ]
     },
     "execution_count": 30,
     "metadata": {},
     "output_type": "execute_result"
    }
   ],
   "source": [
    "len(docs)"
   ]
  },
  {
   "cell_type": "code",
   "execution_count": 31,
   "id": "183434f6",
   "metadata": {
    "tags": []
   },
   "outputs": [
    {
     "data": {
      "text/plain": [
       "'314 A History of Rome to 565 A. D.\\nsuppression of the debased silver currency and the issuing of\\na much improved coinage. Aurelian regarded himself as an\\nabsolute monarch and employed on his coins the titles dominus\\net deus natus —“born Lord and God. ”He likewise reëstablished\\nin Rome the official cult of the Unconquered Sun God, previously\\nintroduced by Elagabalus. One of the characteristics of this cult\\nwas the belief that the monarch was the incarnation of the divine\\nspirit, a belief which gave a moral justification to absolutism.\\nProbus, 276 –282 A. D. Aurelian was murdered in 275 A. D.,\\nand was succeeded by Tacitus, who met a like fate after a rule of\\nless than two years. He was followed by Marcus Aurelius Probus,\\nan able Illyrian officer. Probus was called upon to repel fresh\\ninvasions of Germanic peoples, to subdue the rebellious Isaurians [263]\\nin Asia Minor and suppress a revolt in Egypt. Everywhere he\\nsuccessfully upheld the authority of the empire, but his strict\\ndiscipline eventually cost him the favor of the soldiers who\\nhailed as Imperator Marcus Aurelius Carus. Probus was put to\\ndeath (282 A. D.). Like his predecessor, Carus was a general of\\ngreat ability. He appointed his eldest son Carinus Augustus as his\\nco-ruler, and left him in charge of the West while he embarked\\non a campaign against the Persians. This was crowned with\\ncomplete success and terminated with the capture of Ctesiphon.\\nBut on his return march he died, probably at the hands of his'"
      ]
     },
     "execution_count": 31,
     "metadata": {},
     "output_type": "execute_result"
    }
   ],
   "source": [
    "docs[0].page_content"
   ]
  },
  {
   "cell_type": "markdown",
   "id": "1edb21d8",
   "metadata": {},
   "source": [
    "Let's save this so we can use it later!"
   ]
  },
  {
   "cell_type": "code",
   "execution_count": 32,
   "id": "ea657123",
   "metadata": {
    "tags": []
   },
   "outputs": [],
   "source": [
    "vectordb.persist()"
   ]
  },
  {
   "cell_type": "markdown",
   "id": "cefe9f6a",
   "metadata": {},
   "source": [
    "## Failure modes\n",
    "\n",
    "This seems great, and basic similarity search will get you 80% of the way there very easily. \n",
    "\n",
    "But there are some failure modes that can creep up. \n",
    "\n",
    "Here are some edge cases that can arise - we'll fix them in the next class."
   ]
  },
  {
   "cell_type": "code",
   "execution_count": 33,
   "id": "df0f29f9",
   "metadata": {
    "tags": []
   },
   "outputs": [],
   "source": [
    "question = \"what did they say about matlab?\""
   ]
  },
  {
   "cell_type": "code",
   "execution_count": 34,
   "id": "02be97df",
   "metadata": {
    "tags": []
   },
   "outputs": [],
   "source": [
    "docs = vectordb.similarity_search(question,k=5)"
   ]
  },
  {
   "cell_type": "markdown",
   "id": "2a9f579e",
   "metadata": {},
   "source": [
    "Notice that we're getting duplicate chunks (because of the duplicate `MachineLearning-Lecture01.pdf` in the index).\n",
    "\n",
    "Semantic search fetches all similar documents, but does not enforce diversity.\n",
    "\n",
    "`docs[0]` and `docs[1]` are indentical."
   ]
  },
  {
   "cell_type": "code",
   "execution_count": 35,
   "id": "d39f6954",
   "metadata": {
    "tags": []
   },
   "outputs": [
    {
     "data": {
      "text/plain": [
       "Document(page_content='algorithm then? So what’s different? How come  I was making all that noise earlier about \\nleast squares regression being a bad idea for classification problems and then I did a \\nbunch of math and I skipped some steps, but I’m, sort of, claiming at the end they’re \\nreally the same learning algorithm?  \\nStudent: [Inaudible] constants?  \\nInstructor (Andrew Ng) :Say that again.  \\nStudent: [Inaudible]  \\nInstructor (Andrew Ng) :Oh, right. Okay, cool.', metadata={'page': 13, 'source': '/home/centrox_ai/Desktop/ABDULLAH/llama2/rag//MachineLearning-Lecture03.pdf'})"
      ]
     },
     "execution_count": 35,
     "metadata": {},
     "output_type": "execute_result"
    }
   ],
   "source": [
    "docs[0]"
   ]
  },
  {
   "cell_type": "code",
   "execution_count": 36,
   "id": "e04e3d1b",
   "metadata": {
    "tags": []
   },
   "outputs": [
    {
     "data": {
      "text/plain": [
       "Document(page_content=\"amount of notation. We'll probably all get used  to it in a few days and we'll standardize \\nnotation and make a lot of our descripti ons of learning algorithms a lot easier.  \\nBut again, if you see me write some symbol and you don't quite remember what it means, \\nchances are there are others in  this class who've forgotten too. So please raise your hand \\nand ask if you're ever wondering what some  symbol means. Any questions you have \\nabout any of this?  \\nYeah?  \\nStudent: The variable can be anything? [Inaudible]?  \\nInstructor (Andrew Ng) :Say that again.  \\nStudent: [inaudible] zero theta one?  \\nInstructor (Andrew Ng) :Right, so, well let me – this was going to be next, but the theta \\nor the theta Is are called the parameters. Th e thetas are called the parameters of our \\nlearning algorithm and theta zero, theta one, th eta two are just real numbers. And then it \\nis the job of the learning algor ithm to use the training set to choose or to learn appropriate \\nparameters theta.  \\nOkay, is there other questions?  Student: What does [inaudible]?  \\nInstructor (Andrew Ng) :Oh, transpose. Oh yeah, sorr y. When [inaudible] theta and \\ntheta transpose X, theta [inaudible].  \\nStudent: Is this like a [inaudible] hypothesis [inaudible], or would you have higher \\norders? Or would th eta [inaudible]?  \\nInstructor (Andrew Ng) :All great questions. The answer – so the question was, is this a \\ntypical hypothesis or can theta be a function of other variables and so on. And the answer\", metadata={'page': 4, 'source': '/home/centrox_ai/Desktop/ABDULLAH/llama2/rag//MachineLearning-Lecture02.pdf'})"
      ]
     },
     "execution_count": 36,
     "metadata": {},
     "output_type": "execute_result"
    }
   ],
   "source": [
    "docs[1]"
   ]
  },
  {
   "cell_type": "markdown",
   "id": "3a3a915d",
   "metadata": {},
   "source": [
    "We can see a new failure mode.\n",
    "\n",
    "The question below asks a question about the third lecture, but includes results from other lectures as well."
   ]
  },
  {
   "cell_type": "code",
   "execution_count": 37,
   "id": "b19135e5",
   "metadata": {
    "tags": []
   },
   "outputs": [],
   "source": [
    "question = \"what did they say about regression in the third lecture?\""
   ]
  },
  {
   "cell_type": "code",
   "execution_count": 38,
   "id": "d434942c",
   "metadata": {
    "tags": []
   },
   "outputs": [],
   "source": [
    "docs = vectordb.similarity_search(question,k=5)"
   ]
  },
  {
   "cell_type": "code",
   "execution_count": 39,
   "id": "c2c5df59",
   "metadata": {
    "tags": []
   },
   "outputs": [
    {
     "name": "stdout",
     "output_type": "stream",
     "text": [
      "{'page': 0, 'source': '/home/centrox_ai/Desktop/ABDULLAH/llama2/rag//MachineLearning-Lecture03.pdf'}\n",
      "{'page': 2, 'source': '/home/centrox_ai/Desktop/ABDULLAH/llama2/rag//MachineLearning-Lecture02.pdf'}\n",
      "{'page': 14, 'source': '/home/centrox_ai/Desktop/ABDULLAH/llama2/rag//MachineLearning-Lecture03.pdf'}\n",
      "{'page': 4, 'source': '/home/centrox_ai/Desktop/ABDULLAH/llama2/rag//MachineLearning-Lecture03.pdf'}\n",
      "{'page': 0, 'source': '/home/centrox_ai/Desktop/ABDULLAH/llama2/rag//MachineLearning-Lecture02.pdf'}\n"
     ]
    }
   ],
   "source": [
    "for doc in docs:\n",
    "    print(doc.metadata)"
   ]
  },
  {
   "cell_type": "code",
   "execution_count": 40,
   "id": "8e6cb50c",
   "metadata": {
    "tags": []
   },
   "outputs": [
    {
     "name": "stdout",
     "output_type": "stream",
     "text": [
      "really makes a difference between a good so lution and amazing solution. And to give \n",
      "everyone to just how we do points assignments, or what is it that causes a solution to get \n",
      "full marks, or just how to write amazing so lutions. Becoming a grad er is usually a good \n",
      "way to do that.  \n",
      "Graders are paid positions and you also get free  food, and it's usually fun for us to sort of \n",
      "hang out for an evening and grade all the a ssignments. Okay, so I will send email. So \n",
      "don't email me yet if you want to be a grader. I'll send email to the entire class later with \n",
      "the administrative details and to solicit app lications. So you can email us back then, to \n",
      "apply, if you'd be interested in being a grader.  \n",
      "Okay, any questions about that? All right, okay, so let's get started with today's material. \n",
      "So welcome back to the second lecture. What  I want to do today is talk about linear \n",
      "regression, gradient descent, and the norma l equations. And I should also say, lecture \n",
      "notes have been posted online and so if some  of the math I go over today, I go over rather \n",
      "quickly, if you want to see every equation wr itten out and work through the details more \n",
      "slowly yourself, go to the course homepage and download detailed lecture notes that \n",
      "pretty much describe all the mathematical, te chnical contents I'm going to go over today.  \n",
      "Today, I'm also going to delve into a fair amount  – some amount of linear algebra, and so\n"
     ]
    }
   ],
   "source": [
    "print(docs[4].page_content)"
   ]
  },
  {
   "cell_type": "markdown",
   "id": "c3dbca56",
   "metadata": {},
   "source": [
    "Approaches discussed in the next lecture can be used to address both!"
   ]
  },
  {
   "cell_type": "code",
   "execution_count": null,
   "id": "8cdc67ae-59e0-4a84-9fe6-e3a0391114d0",
   "metadata": {},
   "outputs": [],
   "source": []
  }
 ],
 "metadata": {
  "kernelspec": {
   "display_name": "Python 3 (ipykernel)",
   "language": "python",
   "name": "python3"
  },
  "language_info": {
   "codemirror_mode": {
    "name": "ipython",
    "version": 3
   },
   "file_extension": ".py",
   "mimetype": "text/x-python",
   "name": "python",
   "nbconvert_exporter": "python",
   "pygments_lexer": "ipython3",
   "version": "3.11.8"
  }
 },
 "nbformat": 4,
 "nbformat_minor": 5
}
